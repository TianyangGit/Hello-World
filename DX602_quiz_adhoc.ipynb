{
 "cells": [
  {
   "cell_type": "code",
   "execution_count": 2,
   "id": "e07d9160",
   "metadata": {},
   "outputs": [
    {
     "data": {
      "text/plain": [
       "246510546910"
      ]
     },
     "execution_count": 2,
     "metadata": {},
     "output_type": "execute_result"
    }
   ],
   "source": [
    "12387123478 + 234123423432\n",
    "\n"
   ]
  },
  {
   "cell_type": "code",
   "execution_count": 3,
   "id": "43b8cc8b",
   "metadata": {},
   "outputs": [
    {
     "data": {
      "text/plain": [
       "75523322376"
      ]
     },
     "execution_count": 3,
     "metadata": {},
     "output_type": "execute_result"
    }
   ],
   "source": [
    "6134123 * 12312"
   ]
  },
  {
   "cell_type": "code",
   "execution_count": 4,
   "id": "22da0f2f",
   "metadata": {},
   "outputs": [
    {
     "data": {
      "text/plain": [
       "282475249"
      ]
     },
     "execution_count": 4,
     "metadata": {},
     "output_type": "execute_result"
    }
   ],
   "source": [
    "7 **10"
   ]
  },
  {
   "cell_type": "code",
   "execution_count": null,
   "id": "ad03f4aa",
   "metadata": {},
   "outputs": [],
   "source": []
  }
 ],
 "metadata": {
  "kernelspec": {
   "display_name": "Python 3",
   "language": "python",
   "name": "python3"
  },
  "language_info": {
   "codemirror_mode": {
    "name": "ipython",
    "version": 3
   },
   "file_extension": ".py",
   "mimetype": "text/x-python",
   "name": "python",
   "nbconvert_exporter": "python",
   "pygments_lexer": "ipython3",
   "version": "3.12.1"
  }
 },
 "nbformat": 4,
 "nbformat_minor": 5
}
