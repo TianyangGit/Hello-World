# DX 602 Week 1 Homework
## Introduction

Practice is a large part of becoming fluent in a programming language.
In this module, you will be assigned regular coding homework to practice Python.
If these problems seem too easy to you, try to answer them faster, and make sure to check the auto-grader feedback to confirm the correctness of your answers.
Like with spoken languages, fluency (speed) is highly correlated with proficiency.
But it is important to answer the problems correctly first, then quickly.

## Instructions

You should replace every instance of "..." below.
These are where you are expected to write code to answer each problem.

Be sure to run each code block after you edit it to make sure it runs as expected.
When you are done, we strongly recommend you run all the code from scratch (Runtime menu -> Restart and Run all) to make sure your current code works for all problems.

If your code raises an exception when run from scratch, it will  interfere with the auto-grader process causing you to lose some or all points for this homework.
Please ask for help in YellowDig or schedule an appointment with a learning facilitator if you get stuck.

### Submission

To submit your homework, take the following steps.

1. Save and commit this notebook.
2. Push your changes to GitHub.
3. Confirm that your changes are visible in GitHub.
4. Delete the codespace to avoid wasting your free quota.

The auto-grading process usually completes within a few minutes of pushing to GitHub, but occasionally can take several minutes to an hour.
If you submit your homework early enough, you may review the auto-grading results and fix any mistakes before the deadline.

## Problems
### Problem 1

Set `p1` to the integer 3.
# YOUR CHANGES HERE

p1 = 3
p1
### Problem 2

Set `p2` to the real number 3.0.
`p2` should be a Python float.
# YOUR CHANGES HERE

p2 = 3.0
p2
### Problem 3

Set the variable `p3` to the sum of one, three, and six. Don't worry about being clever, and just answer directly.
# YOUR CHANGES HERE

p3 = 1+3+6
p3
### Problem 4

Write a function `p4` that takes in three arguments and returns their sum.
# YOUR CHANGES HERE

def p4(a, b, c):
    return a+b+c
p4(0, 0, 0)
p4(1, 2, 3)
### Problem 5

Write a function `p5` that takes in two arguments and returns True if they are equal and False otherwise.
# YOUR CHANGES HERE

def p5(x, y):
    return x == y
p5(0, 0)
p5("x", "y")
p5(3.4, 5)
### Problem 6

Set the variable `p6` to be one third.
# YOUR CHANGES HERE

p6 = 1/3
p6
### Problem 7

Set the variable `p7` to be two and one fifth.
# YOUR CHANGES HERE

p7 = 2+1/5
p7
### Problem 8

We often see the size of the approximation errors by taking a round looking decimal number, say 3.3, and subtracting out the whole numbers.
In this case, that would be 3.3 - 3.
If you then subtract the original fractional part, 0.3 in this case, you can see the accumulated error.
So that calculation is (3.3 - 3) - 0.3.
Set `p8` to that value.

# YOUR CHANGES HERE

p8 = (3.3-3) - 0.3
p8
### Problem 9

The speed of light is approximately $3 \times 10^8$ meters per second.
One kilometer is $10^3$ meters.
Set `p9` to the speed of light in kilometers per second.


# YOUR CHANGES HERE

p9 = (3*10**8)/10**3


p9
### Problem 10

The following code imports the math module, giving access to functions defined in the module.
import math

For example, the sine function from trigonometry is `math.sin`.
Note that it is called "sin", not "sine", in that module.
To call that function with input zero, use `math.sin(0)`.
math.sin(0)
Set `p10` to be sin(1).
# YOUR CHANGES HERE

p10 = math.sin(1)
p10
### Problem 11

The math module includes many other commonly used functions.
The documentation for the math module is here -

  https://docs.python.org/3/library/math.html
  
Find the function to calculate $e^x$ (e to the x'th power), and use it to set `p11` equal to $e^3$.
# YOUR CHANGES HERE

p11 = math.exp(3)
p11
### Problem 12

Use the math module again to set `p12` to $\sqrt{3}$, the square root of 3.
# YOUR CHANGES HERE

p12 = math.sqrt(3)
p12
### Problem 13

Set `p13` to the mathematical constant $\pi$ (pi).
Use the math module to get the best floating point approximation.
# YOUR CHANGES HERE

p13 = math.pi
p13
### Problem 14

For positive integers, the factorial function is defined as follows.

\begin{array}{rcl}
n! & = & 1 \times 2 \times 3 \times \cdots \times n \\
\end{array}

where $n!$ is read as $n$ factorial.

For example, $1! = 1$, $3! = 1 \times 2 \times 3 = 6$, and $5! = 1 \times 2 \times 3 \times 4 \times 5 = 120$.

Set `p14` to $14!$.

You are welcome to use a function or type in the formula yourself, but please calculate it instead of typing or pasting the final number.
# YOUR CHANGES HERE

p14 = math.factorial(14)
p14
### Problem 15

Write a function `p15` that takes in three inputs $a$, $b$, and $c$, and returns the value $3a + 4b - 5c + 6$.
# YOUR CHANGES HERE

def p15(a, b, c):
    return 3*a+4*b-5*c+6
p15(0, 0, 0)
p15(1, 1, 1)
p15(1.0, 2.0, 3.0)
### Problem 16

Write a function `p16` that takes in two inputs $a$ and $b$, and returns $\mathrm{cos}(a) + b$.
# YOUR CHANGES HERE
def p16(a,b):
    return math.cos(a) + b
### Problem 17

Set `p17` to be the type of the expression `3 + 4 / 5`.
# YOUR CHANGES HERE

p17 = type(3 + 4 / 5)
### Problem 18

Write a function `p18` that returns the sum of its two inputs.
# YOUR CHANGES HERE

def p18(a,b):
    return a+b
### Problem 19

Set `p19` to $\pi - 22/7$ using the math module to get the value for $\pi$.
# YOUR CHANGES HERE

p19 = math.pi - 22/7
### Problem 20

Set `p20` to 1 if you thought this homework was easy, and 0 if you thought it was hard.
Either value will give you full credit for this problem.
# YOUR CHANGES HERE

p20 = 1
