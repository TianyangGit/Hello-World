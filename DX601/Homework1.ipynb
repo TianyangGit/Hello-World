# DX 601 Week 1 Homework
## Introduction

The purpose of this homework assignment is to give you exposure to basic Python to support your practice with the mathematical concepts of this course.
If you are not taking module 2 consecutively with this module, you may find it helpful to look at the following Jupyter notebook.

* [Python as a Calculator](https://github.com/bu-cds-omds/dx602-examples/blob/main/week01/video_python_as_a_calculator.ipynb). This notebook from module 2 has several examples using Python to calculate simple math expressions.
## Instructions

You should replace every instance of "..." below.
These are where you are expected to write code to answer each problem.

Be sure to run each code block after you edit it to make sure it runs as expected.
When you are done, we strongly recommend you run all the code from scratch (Runtime menu -> Restart and Run all) to make sure your current code works for all problems.

If your code raises an exception when run from scratch, it will  interfere with the auto-grader process causing you to lose some or all points for this homework.
Please ask for help in YellowDig or schedule an appointment with a learning facilitator if you get stuck.

### Submission

To submit your homework, take the following steps.

1. Save and commit this notebook.
2. Push your changes to GitHub.
3. Confirm that your changes are visible in GitHub.
4. Delete the codespace to avoid wasting your free quota.

The auto-grading process usually completes within a few minutes of pushing to GitHub, but occasionally can take several minutes to an hour.
If you submit your homework early enough, you may review the auto-grading results and fix any mistakes before the deadline.

## Problems
### Problem 1

In Python, you can save the result of any expression or computation in a variable with an assignment statement.
The following code assigns one to a new variable called `q1`.
q1 = 1
q1
Set the variable `p1` to the value 3.1.
p1 = 3.1
p1
### Problem 2

Simple mathematical expressions can be computed easily in Python.
Here are examples of addition and subtraction.
1 + 3
5 - 2
Multiplication and division operations are represented with the symbols `*` and `/` respectively.
3 * 4
8 / 3
The result of any of these expressions can be assigned to a variable.
q2 = 5 * 7
q2
Set `p2` to the result of 9 divided by 6.
p2 = 9/6
p2
### Problem 3

Parenthesis in Python have two uses.
Parenthesis can group operations in a Python expression to show that they should be executed first, and they can be used to call functions.
Here is an example of the first usage.
q3 = (2 + 8) * 3
q3
Set `p3` to the result of the mathematical expression $\frac{2 + 5}{3}$.
p3 = (2+5)/3
p3
### Problem 4

Exponentiation is a repeated multiplication operator.
Exponentiation is expressed with the mathematical syntax $x^y$ which is read as $x$ to the $y\mathrm{th}$ power.
If $y$ is a whole number, this is the same as $y$ copies of $x$ multiplied together.
For example, $3^5 = 3 * 3 * 3 * 3 * 3$.

Python uses `**` for exponentiation, so the mathematical expression $x^y$ is `x ** y` in Python.
3 ** 5
Set `p4` to $2^8$.
p4 = 2**8
### Problem 5

Set `p5` to the value $\pi^2$.
The variable `q5` has the value of $\pi$ for your convenience.
import math
q5 = math.pi
q5
p5 = math.pi**2
p5
### Problem 6

Python uses brackets like `[` and `]` to create lists.
Many examples of statistics next week will use lists for example data.

The following example creates a list `q6` containing values 1, 4 and 6.
q6 = [1, 4, 6]
q6
Assign a list containing the numbers 0, 2 and 3 in that order to `p6`.
p6 = [0,2,3]
p6
### Problem 7

A signature feature of Python is list comprehensions.
A list comprehension can be made taking in an old list, and applying a formula to every entry in the old list, and returning a list with the resulting values.
This will be useful for summation expressions such as $\sum_{i=0}^9 x_i^2$.

The following example creates a list `q7a` with the first 5 prime numbers, and then creates another list `q7b` with the squares of the numbers in `q7a`.
`q7b` is created with a list comprehension.
q7a = [2, 3, 5, 7, 11]
q7a
q7b = [x**2 for x in q7a]
q7b
Set `p7` to be a list with values one higher than the corresponding entries in `q7b` using a list comprehension.
p7 = [x+1 for x in q7b]
p7
### Problem 8

The Python built-in function `sum` takes in any sequence of values such as a list, and returns the sum of the values in the list.

The following example shows how to calculate the sum of the values in the list `q8a`.
q8a = [1, 2, 3, 4, 5]
sum(q8a)
Set `p8` to be the sum of the values in `q8b`.
q8b = [0.4, 6.25, 999, 0.245, 23.5, 31.67, 32.67]
p8 = sum(q8b)
p8
### Problem 9

The Python built-in function `len` returns the length of objects like lists.

The following example checks the length of list `q9a`.
q9a = [8.6, 1.5, 8.6, 0.3, 8.2, 2.5, 6.5, 0.0, 8.4, 7.8]
len(q9a)
Set `p9` to be the length of the list `q9b`.
q9b = [7.0, 3.9, 7.8, 3.7, 5.8, 6.7, 4.8, 3.8]
p9 = len(q9b)
p9
### Problem 10

Set `p10` to the sum of the values in `q10`.
q10 = [8.0, 0.9, 8.4, 3.5, 9.4, 9.4, 1.8, 2.9, 9.2, 5.1]
p10 = sum(q10)
p10
### Problem 11

Set `p11` to be the length of `q11`.
q11 = [5.2, 9.6, 8.0, 2.4, 0.4, 1.8, 5.5]
p11 = len(q11)
p11
### Problem 12

List comprehensions can be combined with the sum function to implement summation expressions.
q12a = [3, 4, 5, 6, 7]
q12b = sum([x * x for x in q12a])
q12b
Set `p12` to be the sum of $x^3$ for x from 2 to 5 (inclusive).
q12c = [2, 3, 4, 5]
p12 = sum([x**3 for x in q12c])
p12
### Problem 13

We will be using the pandas module to load structured data in this module.

The following example reads the contents of the file "f13a.tsv" and stores it in the variable `q13`.
# load pandas module and make it accessible as "pd"
import pandas as pd
# read the f13a.tsv as a tab-separated file.
# the sep parameter tells pandas how to parse the file,
# and will be used for most files in this course.
q13 = pd.read_csv("f13a.tsv", sep="\t")
# print out a preview of the data in q11.
# note the column names in the preview.
q13
Use the pandas module to load the file "f13b.tsv" and save it to the variable `p13`.
# read f13b.tsv and save it as p13, following the example for q13.
p13 = pd.read_csv("f13b.tsv", sep = "\t")
p13
### Problem 14

The code below loads the abalone dataset and saves it in the variable `q13`.
You can look at the preview, or check `q13.columns` to see the column names.

q14 = pd.read_csv("https://raw.githubusercontent.com/bu-cds-omds/dx601-examples/main/data/abalone.tsv", sep="\t")
q14
q14.columns
Set the variable `p14` to be the name of the first column of the abalone dataset.
# column names are text data, so use quotes to save them in a variable.
p14 = q14.columns[0]
### Problem 15

Another Python library that we will use in this module is NumPy.
NumPy is best known for its special arrays that make calculations with lots of numbers easy.

The following example converts a small list `q15a` into a NumPy array `q15b`.


import numpy as np
q15a = [1, 3, 8, 6]
q15b = np.array(q15a)
q15b
Set `p15` to be a NumPy array with the same values as the list `q15c`.
q15c = [2, 3, 5, 9]
p15 = np.array(q15c)
p15
### Problem 16

Set `p16` to be the sum of the numbers `q16a` and `q16b`.
q16a = 1e10
q16a
q16b = 22 / 7
q16b
p16 = q16a + q16b
### Problem 17

Set `p17` to the sum of numbers in `q17`.
q17 = [9.1, 4.3, 1.7, 2.8, 2.5, 1.5, 1.4, 3.6, 5.8, 2.3]
p17 = sum(q17)
### Problem 18

Set `p18` to be a list of all the squares of values in `q18`.
q18 = [7.1, 5.9, 8.0, 8.3, 8.1, 0.3, 6.1, 7.0, 7.0, 4.8]
p18 = [x**2 for x in q18]
### Problem 19

Set `p19` to be the sum of the cubes of values in `q19`.
q19 = [4.5, 9.8, 5.7, 5.7, 2.4, 4.7, 2.0, 3.3, 3.5, 4.4]
p19 = sum([x**3 for x in q19])
### Problem 20

Set `p20` to be the contents of file "f20.tsv" after reading it with pandas.
p20 = pd.read_csv("f20.tsv", sep="\t")
